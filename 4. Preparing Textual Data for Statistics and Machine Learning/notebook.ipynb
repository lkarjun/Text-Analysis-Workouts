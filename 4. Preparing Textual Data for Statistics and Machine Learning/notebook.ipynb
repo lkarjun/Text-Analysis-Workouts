{
 "cells": [
  {
   "cell_type": "markdown",
   "id": "35bb4240",
   "metadata": {},
   "source": [
    "## Loading Data"
   ]
  },
  {
   "cell_type": "code",
   "execution_count": 63,
   "id": "7e507ac5",
   "metadata": {},
   "outputs": [],
   "source": [
    "import pandas as pd\n",
    "from pathlib import Path\n",
    "\n",
    "BASE_PATH = Path(\"../DATASETS/4\")\n",
    "\n",
    "post_file = BASE_PATH/'rspct_autos.tsv.gz'\n",
    "subred_file = BASE_PATH/'subreddit_info.csv.gz'"
   ]
  },
  {
   "cell_type": "code",
   "execution_count": 64,
   "id": "4a4cf2bc",
   "metadata": {},
   "outputs": [],
   "source": [
    "post_df = pd.read_csv(post_file, sep = '\\t')\n",
    "subred_df = pd.read_csv(subred_file)"
   ]
  },
  {
   "cell_type": "code",
   "execution_count": 65,
   "id": "2e03d80e",
   "metadata": {},
   "outputs": [],
   "source": [
    "subred_df.set_index(['subreddit'], inplace=True)"
   ]
  },
  {
   "cell_type": "code",
   "execution_count": 66,
   "id": "61aae123",
   "metadata": {},
   "outputs": [],
   "source": [
    "df = post_df.join(subred_df, on = 'subreddit')"
   ]
  },
  {
   "cell_type": "code",
   "execution_count": 67,
   "id": "67666b62",
   "metadata": {},
   "outputs": [
    {
     "data": {
      "text/html": [
       "<div>\n",
       "<style scoped>\n",
       "    .dataframe tbody tr th:only-of-type {\n",
       "        vertical-align: middle;\n",
       "    }\n",
       "\n",
       "    .dataframe tbody tr th {\n",
       "        vertical-align: top;\n",
       "    }\n",
       "\n",
       "    .dataframe thead th {\n",
       "        text-align: right;\n",
       "    }\n",
       "</style>\n",
       "<table border=\"1\" class=\"dataframe\">\n",
       "  <thead>\n",
       "    <tr style=\"text-align: right;\">\n",
       "      <th></th>\n",
       "      <th>id</th>\n",
       "      <th>subreddit</th>\n",
       "      <th>title</th>\n",
       "      <th>selftext</th>\n",
       "      <th>category_1</th>\n",
       "      <th>category_2</th>\n",
       "      <th>category_3</th>\n",
       "      <th>in_data</th>\n",
       "      <th>reason_for_exclusion</th>\n",
       "    </tr>\n",
       "  </thead>\n",
       "  <tbody>\n",
       "    <tr>\n",
       "      <th>0</th>\n",
       "      <td>8f73s7</td>\n",
       "      <td>Harley</td>\n",
       "      <td>No Club Colors</td>\n",
       "      <td>Funny story. I went to college in Las Vegas. T...</td>\n",
       "      <td>autos</td>\n",
       "      <td>harley davidson</td>\n",
       "      <td>NaN</td>\n",
       "      <td>True</td>\n",
       "      <td>NaN</td>\n",
       "    </tr>\n",
       "    <tr>\n",
       "      <th>1</th>\n",
       "      <td>5s0q8r</td>\n",
       "      <td>Mustang</td>\n",
       "      <td>Roush vs Shleby GT500</td>\n",
       "      <td>I am trying to determine which is faster, and ...</td>\n",
       "      <td>autos</td>\n",
       "      <td>ford</td>\n",
       "      <td>NaN</td>\n",
       "      <td>True</td>\n",
       "      <td>NaN</td>\n",
       "    </tr>\n",
       "    <tr>\n",
       "      <th>2</th>\n",
       "      <td>5z3405</td>\n",
       "      <td>Volkswagen</td>\n",
       "      <td>2001 Golf Wagon looking for some insight</td>\n",
       "      <td>Hello! &lt;lb&gt;&lt;lb&gt;Trying to find some information...</td>\n",
       "      <td>autos</td>\n",
       "      <td>VW</td>\n",
       "      <td>NaN</td>\n",
       "      <td>True</td>\n",
       "      <td>NaN</td>\n",
       "    </tr>\n",
       "    <tr>\n",
       "      <th>3</th>\n",
       "      <td>7df18v</td>\n",
       "      <td>Lexus</td>\n",
       "      <td>IS 250 Coolant Flush/Change</td>\n",
       "      <td>https://www.cars.com/articles/how-often-should...</td>\n",
       "      <td>autos</td>\n",
       "      <td>lexus</td>\n",
       "      <td>NaN</td>\n",
       "      <td>True</td>\n",
       "      <td>NaN</td>\n",
       "    </tr>\n",
       "    <tr>\n",
       "      <th>4</th>\n",
       "      <td>5tpve8</td>\n",
       "      <td>volt</td>\n",
       "      <td>Gen1 mpg w/ dead battery?</td>\n",
       "      <td>Hi, new to this subreddit.  I'm considering bu...</td>\n",
       "      <td>autos</td>\n",
       "      <td>chevrolet</td>\n",
       "      <td>NaN</td>\n",
       "      <td>True</td>\n",
       "      <td>NaN</td>\n",
       "    </tr>\n",
       "  </tbody>\n",
       "</table>\n",
       "</div>"
      ],
      "text/plain": [
       "       id   subreddit                                     title  \\\n",
       "0  8f73s7      Harley                            No Club Colors   \n",
       "1  5s0q8r     Mustang                     Roush vs Shleby GT500   \n",
       "2  5z3405  Volkswagen  2001 Golf Wagon looking for some insight   \n",
       "3  7df18v       Lexus               IS 250 Coolant Flush/Change   \n",
       "4  5tpve8        volt                 Gen1 mpg w/ dead battery?   \n",
       "\n",
       "                                            selftext category_1  \\\n",
       "0  Funny story. I went to college in Las Vegas. T...      autos   \n",
       "1  I am trying to determine which is faster, and ...      autos   \n",
       "2  Hello! <lb><lb>Trying to find some information...      autos   \n",
       "3  https://www.cars.com/articles/how-often-should...      autos   \n",
       "4  Hi, new to this subreddit.  I'm considering bu...      autos   \n",
       "\n",
       "        category_2 category_3  in_data reason_for_exclusion  \n",
       "0  harley davidson        NaN     True                  NaN  \n",
       "1             ford        NaN     True                  NaN  \n",
       "2               VW        NaN     True                  NaN  \n",
       "3            lexus        NaN     True                  NaN  \n",
       "4        chevrolet        NaN     True                  NaN  "
      ]
     },
     "execution_count": 67,
     "metadata": {},
     "output_type": "execute_result"
    }
   ],
   "source": [
    "df.head(5)"
   ]
  },
  {
   "cell_type": "markdown",
   "id": "93d8b7e4",
   "metadata": {},
   "source": [
    "#### Standardizing Attributes"
   ]
  },
  {
   "cell_type": "code",
   "execution_count": 68,
   "id": "54f2043b",
   "metadata": {},
   "outputs": [
    {
     "name": "stdout",
     "output_type": "stream",
     "text": [
      "Index(['id', 'subreddit', 'title', 'selftext', 'category_1', 'category_2',\n",
      "       'category_3', 'in_data', 'reason_for_exclusion'],\n",
      "      dtype='object')\n"
     ]
    }
   ],
   "source": [
    "print(df.columns)"
   ]
  },
  {
   "cell_type": "code",
   "execution_count": 69,
   "id": "c9ff64d3",
   "metadata": {},
   "outputs": [],
   "source": [
    "column_mapping = {\n",
    " 'id': 'id',\n",
    " 'subreddit': 'subreddit',\n",
    " 'title': 'title',\n",
    " 'selftext': 'text',\n",
    " 'category_1': 'category',\n",
    " 'category_2': 'subcategory',\n",
    " 'category_3': None, # no data\n",
    " 'in_data': None, # not needed\n",
    " 'reason_for_exclusion': None # not needed\n",
    "}\n",
    "# define remaining columns\n",
    "columns = [c for c in column_mapping.keys() if column_mapping[c] != None]\n"
   ]
  },
  {
   "cell_type": "code",
   "execution_count": 70,
   "id": "a54d3b3a",
   "metadata": {},
   "outputs": [],
   "source": [
    "df = df[columns].rename(columns = column_mapping)"
   ]
  },
  {
   "cell_type": "code",
   "execution_count": 71,
   "id": "7fba2ac3",
   "metadata": {},
   "outputs": [],
   "source": [
    "df = df[df['category'] == 'autos']"
   ]
  },
  {
   "cell_type": "code",
   "execution_count": 72,
   "id": "47aef553",
   "metadata": {},
   "outputs": [
    {
     "data": {
      "text/html": [
       "<div>\n",
       "<style scoped>\n",
       "    .dataframe tbody tr th:only-of-type {\n",
       "        vertical-align: middle;\n",
       "    }\n",
       "\n",
       "    .dataframe tbody tr th {\n",
       "        vertical-align: top;\n",
       "    }\n",
       "\n",
       "    .dataframe thead th {\n",
       "        text-align: right;\n",
       "    }\n",
       "</style>\n",
       "<table border=\"1\" class=\"dataframe\">\n",
       "  <thead>\n",
       "    <tr style=\"text-align: right;\">\n",
       "      <th></th>\n",
       "      <th>12295</th>\n",
       "    </tr>\n",
       "  </thead>\n",
       "  <tbody>\n",
       "    <tr>\n",
       "      <th>id</th>\n",
       "      <td>76ff08</td>\n",
       "    </tr>\n",
       "    <tr>\n",
       "      <th>subreddit</th>\n",
       "      <td>Volkswagen</td>\n",
       "    </tr>\n",
       "    <tr>\n",
       "      <th>title</th>\n",
       "      <td>Advice about 2006 Passat 2.0T?</td>\n",
       "    </tr>\n",
       "    <tr>\n",
       "      <th>text</th>\n",
       "      <td>Hi everyone, I’m looking for a winter car and ...</td>\n",
       "    </tr>\n",
       "    <tr>\n",
       "      <th>category</th>\n",
       "      <td>autos</td>\n",
       "    </tr>\n",
       "    <tr>\n",
       "      <th>subcategory</th>\n",
       "      <td>VW</td>\n",
       "    </tr>\n",
       "  </tbody>\n",
       "</table>\n",
       "</div>"
      ],
      "text/plain": [
       "                                                         12295\n",
       "id                                                      76ff08\n",
       "subreddit                                           Volkswagen\n",
       "title                           Advice about 2006 Passat 2.0T?\n",
       "text         Hi everyone, I’m looking for a winter car and ...\n",
       "category                                                 autos\n",
       "subcategory                                                 VW"
      ]
     },
     "execution_count": 72,
     "metadata": {},
     "output_type": "execute_result"
    }
   ],
   "source": [
    "df.sample(1).T"
   ]
  },
  {
   "cell_type": "code",
   "execution_count": null,
   "id": "260e1f94",
   "metadata": {},
   "outputs": [],
   "source": []
  },
  {
   "cell_type": "code",
   "execution_count": 73,
   "id": "501d2209",
   "metadata": {},
   "outputs": [],
   "source": [
    "import sqlite3"
   ]
  },
  {
   "cell_type": "code",
   "execution_count": 76,
   "id": "e6061a64",
   "metadata": {},
   "outputs": [],
   "source": [
    "db_name = \"reddit-selfposts.db\"\n",
    "con = sqlite3.connect(db_name)\n",
    "df.to_sql(\"posts\", con, index = False, if_exists = 'replace')\n",
    "con.close()"
   ]
  },
  {
   "cell_type": "code",
   "execution_count": 77,
   "id": "0e0e1ca4",
   "metadata": {},
   "outputs": [],
   "source": [
    "con = sqlite3.connect(db_name)\n",
    "df = pd.read_sql(\"select * from posts\", con)\n",
    "con.close()"
   ]
  },
  {
   "cell_type": "code",
   "execution_count": null,
   "id": "5f22ccce",
   "metadata": {},
   "outputs": [],
   "source": []
  },
  {
   "cell_type": "markdown",
   "id": "512f9b97",
   "metadata": {},
   "source": [
    "## Cleaning Text"
   ]
  },
  {
   "cell_type": "markdown",
   "id": "8325f212",
   "metadata": {},
   "source": [
    "### Identify Noise with Regular Experssions"
   ]
  },
  {
   "cell_type": "code",
   "execution_count": 80,
   "id": "5b01cebc",
   "metadata": {},
   "outputs": [],
   "source": [
    "import re"
   ]
  },
  {
   "cell_type": "code",
   "execution_count": 81,
   "id": "9080cd1f",
   "metadata": {},
   "outputs": [],
   "source": [
    "RE_SUSPICIOUS = re.compile(r'[&#<>{}\\[\\]\\\\]')"
   ]
  },
  {
   "cell_type": "code",
   "execution_count": 89,
   "id": "43a465f3",
   "metadata": {},
   "outputs": [],
   "source": [
    "def impurity(text, min_len = 0):\n",
    "    '''returns the share of suspicious characters in a text'''\n",
    "    len_text = len(text)\n",
    "    if text == None or len_text < min_len:\n",
    "        return 0\n",
    "    return len(RE_SUSPICIOUS.findall(text)) / len_text"
   ]
  },
  {
   "cell_type": "code",
   "execution_count": 90,
   "id": "7c228bb5",
   "metadata": {},
   "outputs": [
    {
     "data": {
      "text/plain": [
       "0.09009009009009009"
      ]
     },
     "execution_count": 90,
     "metadata": {},
     "output_type": "execute_result"
    }
   ],
   "source": [
    "text = \"\"\"\n",
    "After viewing the [PINKIEPOOL Trailer](https://www.youtu.be/watch?v=ieHRoHUg)\n",
    "it got me thinking about the best match ups.\n",
    "<lb>Here's my take:<lb><lb>[](/sp)[](/ppseesyou) Deadpool<lb>[](/sp)[](/ajsly)\n",
    "Captain America<lb>\"\"\"\n",
    "\n",
    "impurity(text, 4)"
   ]
  },
  {
   "cell_type": "code",
   "execution_count": 91,
   "id": "5919a80f",
   "metadata": {},
   "outputs": [],
   "source": [
    "df['impurity'] = df['text'].apply(impurity, min_len = 10)"
   ]
  },
  {
   "cell_type": "code",
   "execution_count": 96,
   "id": "3dca25ad",
   "metadata": {},
   "outputs": [
    {
     "data": {
      "text/html": [
       "<div>\n",
       "<style scoped>\n",
       "    .dataframe tbody tr th:only-of-type {\n",
       "        vertical-align: middle;\n",
       "    }\n",
       "\n",
       "    .dataframe tbody tr th {\n",
       "        vertical-align: top;\n",
       "    }\n",
       "\n",
       "    .dataframe thead th {\n",
       "        text-align: right;\n",
       "    }\n",
       "</style>\n",
       "<table border=\"1\" class=\"dataframe\">\n",
       "  <thead>\n",
       "    <tr style=\"text-align: right;\">\n",
       "      <th></th>\n",
       "      <th>text</th>\n",
       "      <th>impurity</th>\n",
       "    </tr>\n",
       "  </thead>\n",
       "  <tbody>\n",
       "    <tr>\n",
       "      <th>19682</th>\n",
       "      <td>Looking at buying a 335i with 39k miles and 11...</td>\n",
       "      <td>0.214716</td>\n",
       "    </tr>\n",
       "    <tr>\n",
       "      <th>12357</th>\n",
       "      <td>I'm looking to lease an a4 premium plus automa...</td>\n",
       "      <td>0.165099</td>\n",
       "    </tr>\n",
       "    <tr>\n",
       "      <th>2730</th>\n",
       "      <td>Breakdown below:&lt;lb&gt;&lt;lb&gt;Elantra GT&lt;lb&gt;&lt;lb&gt;2.0L...</td>\n",
       "      <td>0.139130</td>\n",
       "    </tr>\n",
       "    <tr>\n",
       "      <th>12754</th>\n",
       "      <td>Bulbs Needed:&lt;lb&gt;&lt;lb&gt;&lt;lb&gt;**194 LED BULB x8**&lt;l...</td>\n",
       "      <td>0.132411</td>\n",
       "    </tr>\n",
       "    <tr>\n",
       "      <th>10726</th>\n",
       "      <td>I currently have a deposit on a 2013 335is (CP...</td>\n",
       "      <td>0.129317</td>\n",
       "    </tr>\n",
       "  </tbody>\n",
       "</table>\n",
       "</div>"
      ],
      "text/plain": [
       "                                                    text  impurity\n",
       "19682  Looking at buying a 335i with 39k miles and 11...  0.214716\n",
       "12357  I'm looking to lease an a4 premium plus automa...  0.165099\n",
       "2730   Breakdown below:<lb><lb>Elantra GT<lb><lb>2.0L...  0.139130\n",
       "12754  Bulbs Needed:<lb><lb><lb>**194 LED BULB x8**<l...  0.132411\n",
       "10726  I currently have a deposit on a 2013 335is (CP...  0.129317"
      ]
     },
     "execution_count": 96,
     "metadata": {},
     "output_type": "execute_result"
    }
   ],
   "source": [
    "df[['text', 'impurity']].sort_values(by = 'impurity', ascending=False).head(5)"
   ]
  },
  {
   "cell_type": "code",
   "execution_count": 99,
   "id": "bbd70131",
   "metadata": {},
   "outputs": [],
   "source": [
    "from exp import count_words"
   ]
  },
  {
   "cell_type": "code",
   "execution_count": 101,
   "id": "a32e3473",
   "metadata": {},
   "outputs": [
    {
     "data": {
      "text/html": [
       "<div>\n",
       "<style scoped>\n",
       "    .dataframe tbody tr th:only-of-type {\n",
       "        vertical-align: middle;\n",
       "    }\n",
       "\n",
       "    .dataframe tbody tr th {\n",
       "        vertical-align: top;\n",
       "    }\n",
       "\n",
       "    .dataframe thead th {\n",
       "        text-align: right;\n",
       "    }\n",
       "</style>\n",
       "<table border=\"1\" class=\"dataframe\">\n",
       "  <thead>\n",
       "    <tr style=\"text-align: right;\">\n",
       "      <th></th>\n",
       "      <th>freq</th>\n",
       "    </tr>\n",
       "    <tr>\n",
       "      <th>token</th>\n",
       "      <th></th>\n",
       "    </tr>\n",
       "  </thead>\n",
       "  <tbody>\n",
       "    <tr>\n",
       "      <th>&lt;lb&gt;</th>\n",
       "      <td>100729</td>\n",
       "    </tr>\n",
       "    <tr>\n",
       "      <th>&lt;tab&gt;</th>\n",
       "      <td>642</td>\n",
       "    </tr>\n",
       "  </tbody>\n",
       "</table>\n",
       "</div>"
      ],
      "text/plain": [
       "         freq\n",
       "token        \n",
       "<lb>   100729\n",
       "<tab>     642"
      ]
     },
     "execution_count": 101,
     "metadata": {},
     "output_type": "execute_result"
    }
   ],
   "source": [
    "count_words(df, \n",
    "            column='text', \n",
    "            preprocess=lambda doc: re.findall(r'<[\\w]*>', doc)\n",
    "        )"
   ]
  },
  {
   "cell_type": "code",
   "execution_count": null,
   "id": "ee8007b6",
   "metadata": {},
   "outputs": [],
   "source": []
  },
  {
   "cell_type": "markdown",
   "id": "3705a20c",
   "metadata": {},
   "source": [
    "### Removing Noise with Regular Expressions"
   ]
  },
  {
   "cell_type": "code",
   "execution_count": 103,
   "id": "deb5d2e3",
   "metadata": {},
   "outputs": [],
   "source": [
    "import html"
   ]
  },
  {
   "cell_type": "code",
   "execution_count": 114,
   "id": "ae325b12",
   "metadata": {},
   "outputs": [],
   "source": [
    "def clean(text):\n",
    "    text = html.unescape(text)\n",
    "    # tags like <tab>\n",
    "    text = re.sub(r'<[^<>]*>', ' ', text)\n",
    "    # markdown URLs like [Some text](https://....)\n",
    "    text = re.sub(r'\\[([^\\[\\]]*)\\]\\([^\\(\\)]*\\)', r'\\1', text)\n",
    "    # text or code in brackets like [0]\n",
    "    text = re.sub(r'\\[[^\\[\\]]*\\]', ' ', text)\n",
    "    # standalone sequences of specials, matches &# but not #cool\n",
    "    text = re.sub(r'(?:^|\\s)[&#<>{}\\[\\]+|\\\\:-]{1,}(?:\\s|$)', ' ', text)\n",
    "    # standalone sequences of hyphens like --- or ==\n",
    "    text = re.sub(r'(?:^|\\s)[\\-=\\+]{2,}(?:\\s|$)', ' ', text)\n",
    "    # sequences of white spaces\n",
    "    text = re.sub(r'\\s+', ' ', text)\n",
    "    return text.strip()"
   ]
  },
  {
   "cell_type": "code",
   "execution_count": 115,
   "id": "bd0da830",
   "metadata": {},
   "outputs": [
    {
     "name": "stdout",
     "output_type": "stream",
     "text": [
      "After viewing the PINKIEPOOL Trailer it got me thinking about the best match ups. Here's my take: Deadpool Captain America\n",
      "Impurity:  0.0\n"
     ]
    }
   ],
   "source": [
    "clean_text = clean(text)\n",
    "print(clean_text)\n",
    "print(\"Impurity: \", impurity(clean_text))"
   ]
  },
  {
   "cell_type": "code",
   "execution_count": 117,
   "id": "937cf245",
   "metadata": {},
   "outputs": [
    {
     "data": {
      "text/html": [
       "<div>\n",
       "<style scoped>\n",
       "    .dataframe tbody tr th:only-of-type {\n",
       "        vertical-align: middle;\n",
       "    }\n",
       "\n",
       "    .dataframe tbody tr th {\n",
       "        vertical-align: top;\n",
       "    }\n",
       "\n",
       "    .dataframe thead th {\n",
       "        text-align: right;\n",
       "    }\n",
       "</style>\n",
       "<table border=\"1\" class=\"dataframe\">\n",
       "  <thead>\n",
       "    <tr style=\"text-align: right;\">\n",
       "      <th></th>\n",
       "      <th>clean_text</th>\n",
       "      <th>impurity</th>\n",
       "    </tr>\n",
       "  </thead>\n",
       "  <tbody>\n",
       "    <tr>\n",
       "      <th>14058</th>\n",
       "      <td>Mustang 2018, 2019, or 2020? Must Haves!! 1. H...</td>\n",
       "      <td>0.030864</td>\n",
       "    </tr>\n",
       "    <tr>\n",
       "      <th>18934</th>\n",
       "      <td>At the dealership, they offered an option for ...</td>\n",
       "      <td>0.026455</td>\n",
       "    </tr>\n",
       "    <tr>\n",
       "      <th>16505</th>\n",
       "      <td>I am looking at four Caymans, all are in a sim...</td>\n",
       "      <td>0.024631</td>\n",
       "    </tr>\n",
       "  </tbody>\n",
       "</table>\n",
       "</div>"
      ],
      "text/plain": [
       "                                              clean_text  impurity\n",
       "14058  Mustang 2018, 2019, or 2020? Must Haves!! 1. H...  0.030864\n",
       "18934  At the dealership, they offered an option for ...  0.026455\n",
       "16505  I am looking at four Caymans, all are in a sim...  0.024631"
      ]
     },
     "execution_count": 117,
     "metadata": {},
     "output_type": "execute_result"
    }
   ],
   "source": [
    "df['clean_text'] = df['text'].map(clean)\n",
    "df['impurity'] = df['clean_text'].apply(impurity, min_len = 20)\n",
    "\n",
    "df[['clean_text', 'impurity']].sort_values(by = 'impurity', ascending=False).head(3)"
   ]
  },
  {
   "cell_type": "code",
   "execution_count": null,
   "id": "781056a7",
   "metadata": {},
   "outputs": [],
   "source": []
  },
  {
   "cell_type": "markdown",
   "id": "b0f4ffbb",
   "metadata": {},
   "source": [
    "### Character Normalization with textacy"
   ]
  },
  {
   "cell_type": "code",
   "execution_count": 118,
   "id": "67e56eea",
   "metadata": {},
   "outputs": [],
   "source": [
    "text = \"The café “Saint-Raphaël” is loca-\\nted on Côte dʼAzur.\""
   ]
  },
  {
   "cell_type": "code",
   "execution_count": null,
   "id": "38ec5ac1",
   "metadata": {},
   "outputs": [],
   "source": []
  },
  {
   "cell_type": "code",
   "execution_count": null,
   "id": "9f4fd373",
   "metadata": {},
   "outputs": [],
   "source": [
    "import textacy.pre"
   ]
  },
  {
   "cell_type": "code",
   "execution_count": null,
   "id": "b59c4c6b",
   "metadata": {},
   "outputs": [],
   "source": []
  }
 ],
 "metadata": {
  "kernelspec": {
   "display_name": "Python 3 (ipykernel)",
   "language": "python",
   "name": "python3"
  },
  "language_info": {
   "codemirror_mode": {
    "name": "ipython",
    "version": 3
   },
   "file_extension": ".py",
   "mimetype": "text/x-python",
   "name": "python",
   "nbconvert_exporter": "python",
   "pygments_lexer": "ipython3",
   "version": "3.9.5"
  }
 },
 "nbformat": 4,
 "nbformat_minor": 5
}
