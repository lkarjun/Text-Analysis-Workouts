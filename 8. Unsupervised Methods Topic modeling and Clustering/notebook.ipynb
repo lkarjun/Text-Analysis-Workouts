{
 "cells": [
  {
   "cell_type": "markdown",
   "id": "bcfc51f8-c47f-40a4-b389-9910334d68a6",
   "metadata": {},
   "source": [
    "## Topic Modeling and Clustering"
   ]
  },
  {
   "cell_type": "code",
   "execution_count": 1,
   "id": "8e0eb9ba-cba7-4b17-b787-6a0688ad9e57",
   "metadata": {},
   "outputs": [],
   "source": [
    "from pathlib import Path\n",
    "import pandas as pd\n",
    "import seaborn as sns\n",
    "\n",
    "sns.set()\n",
    "BASE_PATH = Path(\"../DATASETS/1\")"
   ]
  },
  {
   "cell_type": "markdown",
   "id": "838a389d-e7a7-4b3c-92ba-7ce5f0ebe1a9",
   "metadata": {},
   "source": [
    "Topics normally overlap with each other; they are not clearly separated. The same is\n",
    "true for documents: it is not possible to assign a document uniquely to a single topic;\n",
    "a document always contains a mixture of different topics. The aim of topic modeling\n",
    "is not primarily to assign a topic to an arbitrary document but to find the global\n",
    "structure of the corpus.\n",
    "\n",
    "This time we are more interested in the meaning and in the semantic content of the\n",
    "speeches and how we can arrange them topically. We want to know what the speakers\n",
    "are talking about and answer questions like these: \n",
    "\n",
    "Is there a structure in the docu‐ment corpus? \n",
    "\n",
    "What are the topics?\n",
    "\n",
    "Which of them is most prominent? Does this change over time?"
   ]
  },
  {
   "cell_type": "markdown",
   "id": "90b8d30f-9f1a-49e9-b75b-414f9f1f13e0",
   "metadata": {},
   "source": [
    "### Checking Statistics of the corpus"
   ]
  },
  {
   "cell_type": "code",
   "execution_count": 4,
   "id": "29eb5b20-d08f-4f03-9158-f4883b14d8e7",
   "metadata": {},
   "outputs": [],
   "source": [
    "debates = pd.read_csv(BASE_PATH/\"un-general-debates-blueprint.csv\")"
   ]
  },
  {
   "cell_type": "code",
   "execution_count": 7,
   "id": "accea0d5-0869-4364-aae5-7c16c83f4eff",
   "metadata": {},
   "outputs": [
    {
     "name": "stdout",
     "output_type": "stream",
     "text": [
      "<class 'pandas.core.frame.DataFrame'>\n",
      "RangeIndex: 7507 entries, 0 to 7506\n",
      "Data columns (total 7 columns):\n",
      " #   Column        Non-Null Count  Dtype \n",
      "---  ------        --------------  ----- \n",
      " 0   session       7507 non-null   int64 \n",
      " 1   year          7507 non-null   int64 \n",
      " 2   country       7507 non-null   object\n",
      " 3   country_name  7507 non-null   object\n",
      " 4   speaker       7480 non-null   object\n",
      " 5   position      4502 non-null   object\n",
      " 6   text          7507 non-null   object\n",
      "dtypes: int64(2), object(5)\n",
      "memory usage: 410.7+ KB\n"
     ]
    }
   ],
   "source": [
    "debates.info()"
   ]
  },
  {
   "cell_type": "code",
   "execution_count": null,
   "id": "6ea31493-8dd7-4565-98ff-85dabd02cade",
   "metadata": {},
   "outputs": [],
   "source": []
  },
  {
   "cell_type": "code",
   "execution_count": 9,
   "id": "4c233a1e-7e55-4481-b03d-10ed6b69c545",
   "metadata": {},
   "outputs": [
    {
     "name": "stdout",
     "output_type": "stream",
     "text": [
      "'\\ufeffIt is indeed a pleasure for me and the members of my delegation to extend to Ambassador Garba our sincere congratulations on his election to the presidency of the forty-fourth session of the General '\n",
      "'\\ufeffOn behalf of the State of Kuwait, it\\ngives me pleasure to congratulate Mr. Han Seung-soo,\\nand his friendly country, the Republic of Korea, on his\\nelection as President of the fifty-sixth session of t'\n"
     ]
    }
   ],
   "source": [
    "print(repr(debates.iloc[2666][\"text\"][0:200]))\n",
    "print(repr(debates.iloc[4729][\"text\"][0:200]))"
   ]
  },
  {
   "cell_type": "code",
   "execution_count": null,
   "id": "b5f6e941-a976-4f4d-b986-0b5dc607d82e",
   "metadata": {},
   "outputs": [],
   "source": []
  },
  {
   "cell_type": "code",
   "execution_count": 11,
   "id": "501f566e-1d7c-4643-aa3b-818d9265790a",
   "metadata": {},
   "outputs": [],
   "source": [
    "import re\n",
    "debates[\"paragraphs\"] = debates[\"text\"].map(lambda text: re.split('[.?!]\\s*\\n', text))\n",
    "debates[\"number_of_paragraphs\"] = debates[\"paragraphs\"].map(len)"
   ]
  },
  {
   "cell_type": "code",
   "execution_count": null,
   "id": "3a236c28-e258-4ac9-9e03-5ff1e1e7938d",
   "metadata": {},
   "outputs": [],
   "source": []
  },
  {
   "cell_type": "code",
   "execution_count": 20,
   "id": "a6191b94-55e6-47bc-b7ba-f7258da392d8",
   "metadata": {},
   "outputs": [
    {
     "data": {
      "image/png": "[encoded data removed]",
      "text/plain": [
       "<Figure size 864x288 with 1 Axes>"
      ]
     },
     "metadata": {
      "needs_background": "light"
     },
     "output_type": "display_data"
    }
   ],
   "source": [
    "%matplotlib inline\n",
    "\n",
    "debates.groupby('year').agg({'number_of_paragraphs': 'mean'}).plot.bar(figsize = (12, 4));"
   ]
  },
  {
   "cell_type": "code",
   "execution_count": 26,
   "id": "e8238e6a-8fb7-4f75-bcdc-f0e184f256e0",
   "metadata": {},
   "outputs": [
    {
     "data": {
      "text/plain": [
       "Index(['session', 'year', 'country', 'country_name', 'speaker', 'position',\n",
       "       'text', 'paragraphs', 'number_of_paragraphs'],\n",
       "      dtype='object')"
      ]
     },
     "execution_count": 26,
     "metadata": {},
     "output_type": "execute_result"
    }
   ],
   "source": [
    "debates.columns"
   ]
  },
  {
   "cell_type": "code",
   "execution_count": null,
   "id": "c0f0417e-b6c7-4653-8f1b-4b19191ed695",
   "metadata": {},
   "outputs": [],
   "source": []
  },
  {
   "cell_type": "markdown",
   "id": "74b4ffe9-8750-42dc-89e9-5f5718317460",
   "metadata": {},
   "source": [
    "### Preparations"
   ]
  },
  {
   "cell_type": "code",
   "execution_count": 27,
   "id": "76de857d-1b67-40cc-b9eb-b5ae8c6897dd",
   "metadata": {},
   "outputs": [],
   "source": [
    "from sklearn.feature_extraction.text import TfidfVectorizer\n",
    "# from spacy.lang.en.stop_words import STOP_WORDS"
   ]
  },
  {
   "cell_type": "code",
   "execution_count": 41,
   "id": "375a59a5-39e2-437c-a09e-7c02413596c7",
   "metadata": {},
   "outputs": [],
   "source": [
    "tfidf_text = TfidfVectorizer(stop_words='english', min_df = 5, max_df=.7)\n",
    "tfidf_vectors_text = tfidf_text.fit_transform(debates['text'])"
   ]
  },
  {
   "cell_type": "code",
   "execution_count": null,
   "id": "990d531a-69b7-43cb-9a01-c6ec51299ee8",
   "metadata": {},
   "outputs": [],
   "source": []
  },
  {
   "cell_type": "code",
   "execution_count": 38,
   "id": "f0f2648c-ce45-461c-aa55-46070f3aca38",
   "metadata": {},
   "outputs": [],
   "source": [
    "# flatten the paragraphs keeping the years\n",
    "paragraph_df = pd.DataFrame([{ \"text\": paragraph, \"year\": year }\n",
    "                                for paragraphs, year in \\\n",
    "                                    zip(debates[\"paragraphs\"], debates[\"year\"])\n",
    "                                for paragraph in paragraphs if paragraph])"
   ]
  },
  {
   "cell_type": "code",
   "execution_count": 39,
   "id": "f0c79e01-8806-4cb6-b216-9f669c112805",
   "metadata": {},
   "outputs": [
    {
     "data": {
      "text/plain": [
       "(282210, 25159)"
      ]
     },
     "execution_count": 39,
     "metadata": {},
     "output_type": "execute_result"
    }
   ],
   "source": [
    "tfidf_para_vectorizer = TfidfVectorizer(stop_words='english', min_df = 5,\n",
    "                                            max_df = .7)\n",
    "\n",
    "tfidf_para_vectors = tfidf_para_vectorizer.fit_transform(paragraph_df['text'])\n",
    "tfidf_para_vectors.shapee"
   ]
  },
  {
   "cell_type": "code",
   "execution_count": null,
   "id": "df602a62-8ece-4fb1-bd90-34b2859837c7",
   "metadata": {},
   "outputs": [],
   "source": []
  },
  {
   "cell_type": "markdown",
   "id": "322f2420-e28d-4d1e-adef-c1c0587688fb",
   "metadata": {},
   "source": [
    "### Nonnegative Matrix Factorization (NMF)"
   ]
  },
  {
   "cell_type": "code",
   "execution_count": 40,
   "id": "6b4eb503-2043-400b-8b32-f622fd403207",
   "metadata": {},
   "outputs": [],
   "source": [
    "from sklearn.decomposition import NMF"
   ]
  },
  {
   "cell_type": "code",
   "execution_count": 42,
   "id": "ed932e33-b04d-43a7-a0cf-79a03a1cd1e9",
   "metadata": {},
   "outputs": [
    {
     "name": "stderr",
     "output_type": "stream",
     "text": [
      "C:\\Users\\HP\\.virtualenvs\\Text-Analysis-workouts-4nsmzFq6\\lib\\site-packages\\sklearn\\decomposition\\_nmf.py:289: FutureWarning: The 'init' value, when 'init=None' and n_components is less than n_samples and n_features, will be changed from 'nndsvd' to 'nndsvda' in 1.1 (renaming of 0.26).\n",
      "  warnings.warn(\n"
     ]
    }
   ],
   "source": [
    "nmf_text_model = NMF(n_components=10, random_state=42)\n",
    "W_text_matrix = nmf_text_model.fit_transform(tfidf_vectors_text)\n",
    "H_text_matrix = nmf_text_model.components_"
   ]
  },
  {
   "cell_type": "code",
   "execution_count": 43,
   "id": "151e9c3c-1e90-49db-ba71-23037e17e015",
   "metadata": {},
   "outputs": [
    {
     "data": {
      "text/plain": [
       "((7507, 10), (10, 24604))"
      ]
     },
     "execution_count": 43,
     "metadata": {},
     "output_type": "execute_result"
    }
   ],
   "source": [
    "W_text_matrix.shape, H_text_matrix.shape"
   ]
  },
  {
   "cell_type": "code",
   "execution_count": 48,
   "id": "414c48bf-41de-4b2e-b18e-d2d474cd7a17",
   "metadata": {},
   "outputs": [],
   "source": [
    "def display_topics(model, features, no_top_words = 5):\n",
    "    for topic, word_vector in enumerate(model.components_):\n",
    "        total = word_vector.sum()\n",
    "        largest = word_vector.argsort()[::-1]\n",
    "        print(f\"\\nTopic {topic}\")\n",
    "        for i in range(0, no_top_words):\n",
    "            print(\" %s (%2.2f)\" % (features[largest[i]],word_vector[largest[i]]*100.0/total))"
   ]
  },
  {
   "cell_type": "code",
   "execution_count": 52,
   "id": "343a0d0e-2e7f-446f-a43f-544b68debd2a",
   "metadata": {},
   "outputs": [
    {
     "name": "stdout",
     "output_type": "stream",
     "text": [
      "\n",
      "Topic 0\n",
      " nuclear (1.13)\n",
      " weapons (0.59)\n",
      " disarmament (0.57)\n",
      " operation (0.45)\n",
      "\n",
      "Topic 1\n",
      " terrorism (0.40)\n",
      " challenges (0.32)\n",
      " millennium (0.31)\n",
      " sustainable (0.30)\n",
      "\n",
      "Topic 2\n",
      " africa (0.93)\n",
      " african (0.59)\n",
      " south (0.59)\n",
      " namibia (0.36)\n",
      "\n",
      "Topic 3\n",
      " arab (1.00)\n",
      " israel (0.87)\n",
      " palestinian (0.59)\n",
      " lebanon (0.54)\n",
      "\n",
      "Topic 4\n",
      " american (0.27)\n",
      " america (0.27)\n",
      " latin (0.27)\n",
      " panama (0.16)\n",
      "\n",
      "Topic 5\n",
      " pacific (0.84)\n",
      " island (0.80)\n",
      " islands (0.74)\n",
      " small (0.71)\n",
      "\n",
      "Topic 6\n",
      " republic (0.83)\n",
      " viet (0.72)\n",
      " nam (0.68)\n",
      " socialist (0.53)\n",
      "\n",
      "Topic 7\n",
      " guinea (4.67)\n",
      " equatorial (1.86)\n",
      " papua (1.84)\n",
      " bissau (1.60)\n",
      "\n",
      "Topic 8\n",
      " european (0.60)\n",
      " europe (0.44)\n",
      " cooperation (0.44)\n",
      " bosnia (0.36)\n",
      "\n",
      "Topic 9\n",
      " cyprus (2.08)\n",
      " turkey (1.91)\n",
      " turkish (1.60)\n",
      " greece (1.18)\n"
     ]
    }
   ],
   "source": [
    "display_topics(nmf_text_model, tfidf_text.get_feature_names_out(), 4)"
   ]
  },
  {
   "cell_type": "code",
   "execution_count": 53,
   "id": "6c2cfc0b-b4d0-499f-b8b7-427b896468ae",
   "metadata": {},
   "outputs": [
    {
     "data": {
      "text/plain": [
       "array([ 9.62136358, 15.70109721, 15.33099479, 10.23095155, 13.66408008,\n",
       "        7.85638676,  7.51265984,  4.0675851 , 11.85528684,  4.15959426])"
      ]
     },
     "execution_count": 53,
     "metadata": {},
     "output_type": "execute_result"
    }
   ],
   "source": [
    "W_text_matrix.sum(axis=0)/W_text_matrix.sum()*100.0"
   ]
  },
  {
   "cell_type": "code",
   "execution_count": null,
   "id": "2d796492-4b5d-4a54-b497-533f90239d48",
   "metadata": {},
   "outputs": [],
   "source": []
  },
  {
   "cell_type": "code",
   "execution_count": null,
   "id": "a60a50d3-09d6-41e8-afcc-c9c9de9c1a4e",
   "metadata": {},
   "outputs": [],
   "source": []
  }
 ],
 "metadata": {
  "kernelspec": {
   "display_name": "Python 3 (ipykernel)",
   "language": "python",
   "name": "python3"
  },
  "language_info": {
   "codemirror_mode": {
    "name": "ipython",
    "version": 3
   },
   "file_extension": ".py",
   "mimetype": "text/x-python",
   "name": "python",
   "nbconvert_exporter": "python",
   "pygments_lexer": "ipython3",
   "version": "3.9.5"
  }
 },
 "nbformat": 4,
 "nbformat_minor": 5
}
