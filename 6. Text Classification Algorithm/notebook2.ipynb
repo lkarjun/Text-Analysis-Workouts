{
 "cells": [
  {
   "cell_type": "code",
   "execution_count": 9,
   "id": "b3bd6ba4",
   "metadata": {},
   "outputs": [],
   "source": [
    "import pandas as pd\n",
    "from pathlib import Path\n",
    "\n",
    "BASE_PATH = Path(\"../DATASETS/6\")"
   ]
  },
  {
   "cell_type": "code",
   "execution_count": 13,
   "id": "3ab459a4",
   "metadata": {},
   "outputs": [],
   "source": [
    "import html\n",
    "import re\n",
    "\n",
    "def clean(text):\n",
    "    text = html.unescape(text)\n",
    "    # tags like <tab>\n",
    "    text = re.sub(r'<[^<>]*>', ' ', text)\n",
    "    # markdown URLs like [Some text](https://....)\n",
    "    text = re.sub(r'\\[([^\\[\\]]*)\\]\\([^\\(\\)]*\\)', r'\\1', text)\n",
    "    # text or code in brackets like [0]\n",
    "    text = re.sub(r'\\[[^\\[\\]]*\\]', ' ', text)\n",
    "    # standalone sequences of specials, matches &# but not #cool\n",
    "    text = re.sub(r'(?:^|\\s)[&#<>{}\\[\\]+|\\\\:-]{1,}(?:\\s|$)', ' ', text)\n",
    "    # standalone sequences of hyphens like --- or ==\n",
    "    text = re.sub(r'(?:^|\\s)[\\-=\\+]{2,}(?:\\s|$)', ' ', text)\n",
    "    # sequences of white spaces\n",
    "    text = re.sub(r'\\s+', ' ', text)\n",
    "    return text.strip()"
   ]
  },
  {
   "cell_type": "code",
   "execution_count": 10,
   "id": "84bcaee0",
   "metadata": {},
   "outputs": [],
   "source": [
    "runSVC = True"
   ]
  },
  {
   "cell_type": "code",
   "execution_count": 19,
   "id": "f433b408",
   "metadata": {},
   "outputs": [],
   "source": [
    "# Loading the DataFrame\n",
    "df = pd.read_csv(BASE_PATH/'eclipse_jdt.csv.gz')\n",
    "df = df[['Title', 'Description', 'Component']]\n",
    "df = df.dropna()\n",
    "df['text'] = df['Title'] + df['Description']\n",
    "df = df.drop(columns=['Title', 'Description'])"
   ]
  },
  {
   "cell_type": "code",
   "execution_count": 15,
   "id": "a6dbce58",
   "metadata": {},
   "outputs": [],
   "source": [
    "# Step 1 - Data Preparation\n",
    "df['text'] = df['text'].apply(clean)\n",
    "df = df[df['text'].str.len() > 50]\n"
   ]
  },
  {
   "cell_type": "code",
   "execution_count": 16,
   "id": "84e1e4af",
   "metadata": {},
   "outputs": [],
   "source": [
    "if (runSVC):\n",
    " # Sample the data when running SVC to ensure reasonable run-times\n",
    " df = df.groupby('Component', as_index=False).apply(pd.DataFrame.sample,\n",
    "                                                     random_state=21,\n",
    "                                                     frac=.2)"
   ]
  },
  {
   "cell_type": "code",
   "execution_count": null,
   "id": "4a67f0f4",
   "metadata": {},
   "outputs": [],
   "source": []
  },
  {
   "cell_type": "code",
   "execution_count": 28,
   "id": "747efa50",
   "metadata": {},
   "outputs": [],
   "source": [
    "from sklearn.model_selection import train_test_split"
   ]
  },
  {
   "cell_type": "code",
   "execution_count": 29,
   "id": "e4cd330a",
   "metadata": {},
   "outputs": [
    {
     "name": "stdout",
     "output_type": "stream",
     "text": [
      "Size of Training Data  36202\n",
      "Size of Test Data  9051\n"
     ]
    }
   ],
   "source": [
    "# Step 2 - Train-Test Split\n",
    "X_train, X_test, Y_train, Y_test = train_test_split(df['text'],\n",
    "                                     df['Component'],\n",
    "                                     test_size=0.2,\n",
    "                                     random_state=42,\n",
    "                                     stratify=df['Component'])\n",
    "\n",
    "print('Size of Training Data ', X_train.shape[0])\n",
    "print('Size of Test Data ', X_test.shape[0])"
   ]
  },
  {
   "cell_type": "code",
   "execution_count": null,
   "id": "79c48ee4",
   "metadata": {},
   "outputs": [],
   "source": []
  },
  {
   "cell_type": "code",
   "execution_count": 30,
   "id": "14fbdefa",
   "metadata": {},
   "outputs": [],
   "source": [
    "from sklearn.feature_extraction.text import TfidfVectorizer\n",
    "# Step 3 - Training the Machine Learning model\n",
    "tfidf = TfidfVectorizer(stop_words=\"english\")"
   ]
  },
  {
   "cell_type": "code",
   "execution_count": 43,
   "id": "736ff23e",
   "metadata": {},
   "outputs": [],
   "source": [
    "from sklearn.svm import LinearSVC, SVC\n",
    "from sklearn.pipeline import Pipeline\n",
    "from sklearn.model_selection import GridSearchCV"
   ]
  },
  {
   "cell_type": "code",
   "execution_count": 38,
   "id": "99a35475",
   "metadata": {},
   "outputs": [],
   "source": [
    "if (runSVC):\n",
    "    model = SVC(random_state=42, probability=True)\n",
    "    grid_param = [{\n",
    "         'tfidf__min_df': [5, 10],\n",
    "         'tfidf__ngram_range': [(1, 3), (1, 6)],\n",
    "         'model__C': [1, 100],\n",
    "         'model__kernel': ['linear']\n",
    "     }]\n",
    "else:\n",
    "    model = LinearSVC(random_state=42, tol=1e-5)\n",
    "    grid_param = {\n",
    "         'tfidf__min_df': [5, 10],\n",
    "         'tfidf__ngram_range': [(1, 3), (1, 6)],\n",
    "         'model__C': [1, 100],\n",
    "         'model__loss': ['hinge']\n",
    "     }"
   ]
  },
  {
   "cell_type": "code",
   "execution_count": 41,
   "id": "d4958308",
   "metadata": {},
   "outputs": [],
   "source": [
    "training_pipeline = Pipeline(\n",
    "                     steps=[\n",
    "                              ('tfidf', TfidfVectorizer(stop_words=\"english\")), \n",
    "                              ('model', model)\n",
    "                     ]\n",
    ")"
   ]
  },
  {
   "cell_type": "code",
   "execution_count": null,
   "id": "258a1f7d",
   "metadata": {},
   "outputs": [],
   "source": [
    "gridSearchProcessor = GridSearchCV(\n",
    "                        estimator=training_pipeline,\n",
    "                        param_grid=grid_param,\n",
    "                        cv=5)\n",
    "gridSearchProcessor.fit(X_train, Y_train)"
   ]
  },
  {
   "cell_type": "code",
   "execution_count": null,
   "id": "cd223b89",
   "metadata": {},
   "outputs": [],
   "source": []
  },
  {
   "cell_type": "code",
   "execution_count": null,
   "id": "23eaefbe",
   "metadata": {},
   "outputs": [],
   "source": [
    "best_params = gridSearchProcessor.best_params_\n",
    "print(\"Best alpha parameter identified by grid search \", best_params)\n",
    "best_result = gridSearchProcessor.best_score_\n",
    "print(\"Best result identified by grid search \", best_result)\n",
    "best_model = gridSearchProcessor.best_estimator_\n"
   ]
  },
  {
   "cell_type": "code",
   "execution_count": null,
   "id": "b0c1c021",
   "metadata": {},
   "outputs": [],
   "source": [
    "# Step 4 - Model Evaluation\n",
    "Y_pred = best_model.predict(X_test)\n",
    "print('Accuracy Score - ', accuracy_score(Y_test, Y_pred))\n",
    "print(classification_report(Y_test, Y_pred))"
   ]
  },
  {
   "cell_type": "code",
   "execution_count": null,
   "id": "b1d0be9d",
   "metadata": {},
   "outputs": [],
   "source": [
    "frame = { 'text': X_test, 'actual': Y_test, 'predicted': Y_pred }\n",
    "result = pd.DataFrame(frame)\n",
    "result[result['actual'] == result['predicted']].sample(2)"
   ]
  },
  {
   "cell_type": "code",
   "execution_count": null,
   "id": "c4ac86b0",
   "metadata": {},
   "outputs": [],
   "source": [
    "result[result['actual'] != result['predicted']].sample(2)"
   ]
  },
  {
   "cell_type": "code",
   "execution_count": null,
   "id": "d6608861",
   "metadata": {},
   "outputs": [],
   "source": []
  }
 ],
 "metadata": {
  "kernelspec": {
   "display_name": "Python 3 (ipykernel)",
   "language": "python",
   "name": "python3"
  },
  "language_info": {
   "codemirror_mode": {
    "name": "ipython",
    "version": 3
   },
   "file_extension": ".py",
   "mimetype": "text/x-python",
   "name": "python",
   "nbconvert_exporter": "python",
   "pygments_lexer": "ipython3",
   "version": "3.9.5"
  }
 },
 "nbformat": 4,
 "nbformat_minor": 5
}
