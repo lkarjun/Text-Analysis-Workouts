{
 "cells": [
  {
   "cell_type": "markdown",
   "id": "84def529",
   "metadata": {},
   "source": [
    "### From chapter 6"
   ]
  },
  {
   "cell_type": "code",
   "execution_count": 6,
   "id": "9d7f6d36",
   "metadata": {},
   "outputs": [],
   "source": [
    "import pandas as pd\n",
    "pd.set_option('display.max_colwidth', 50)\n",
    "from pathlib import Path\n",
    "\n",
    "import matplotlib.pyplot as plt\n",
    "\n",
    "BASE_PATH = Path(\"../DATASETS/6\")"
   ]
  },
  {
   "cell_type": "code",
   "execution_count": 3,
   "id": "5cb215e1",
   "metadata": {},
   "outputs": [],
   "source": [
    "import html \n",
    "import re\n",
    "# tags like \n",
    "RE_TAG = re.compile(r'<[^<>]*>')\n",
    "# text or code in brackets like [0]\n",
    "RE_BRACKET = re.compile('\\[[^\\[\\]]*\\]')\n",
    "# text or code in brackets like (0)\n",
    "RE_BRACKET_1 = re.compile('\\([^)]*\\)')\n",
    "# specials that are not part of words; matches # but not #cool\n",
    "RE_SPECIAL = re.compile(r'(?:^|\\s)[&#<>{}\\[\\]+]+(?:\\s|$)')\n",
    "# standalone sequences of hyphens like --- or ==\n",
    "RE_HYPHEN_SEQ = re.compile(r'(?:^|\\s)[\\-=\\+]{2,}(?:\\s|$)')\n",
    "# sequences of white spaces\n",
    "RE_MULTI_SPACE = re.compile('\\s+')\n",
    "\n",
    "def clean(text):\n",
    "    text = html.unescape(text)\n",
    "    text = RE_TAG.sub(' ', text)\n",
    "    text = RE_BRACKET.sub(' ', text)\n",
    "    text = RE_BRACKET_1.sub(' ', text)\n",
    "    text = RE_SPECIAL.sub(' ', text)\n",
    "    text = RE_HYPHEN_SEQ.sub(' ', text)\n",
    "    text = RE_MULTI_SPACE.sub(' ', text)\n",
    "    return text.strip()"
   ]
  },
  {
   "cell_type": "code",
   "execution_count": 4,
   "id": "a1fbb7f3",
   "metadata": {},
   "outputs": [],
   "source": [
    "from sklearn.model_selection import train_test_split\n",
    "from sklearn.feature_extraction.text import TfidfVectorizer\n",
    "from sklearn.svm import SVC\n",
    "from sklearn.metrics import accuracy_score\n",
    "from sklearn.metrics import confusion_matrix, classification_report"
   ]
  },
  {
   "cell_type": "code",
   "execution_count": 7,
   "id": "c51d922f",
   "metadata": {},
   "outputs": [
    {
     "name": "stdout",
     "output_type": "stream",
     "text": [
      "Size of Training Data  7240\n",
      "Size of Test Data  1811\n"
     ]
    },
    {
     "data": {
      "text/plain": [
       "SVC(C=1, kernel='linear', probability=True, random_state=42)"
      ]
     },
     "execution_count": 7,
     "metadata": {},
     "output_type": "execute_result"
    }
   ],
   "source": [
    "# Loading the dataframe\n",
    "\n",
    "df = pd.read_csv(BASE_PATH/\"eclipse_jdt.csv.gz\")\n",
    "df = df.groupby('Component', as_index=False).apply(pd.DataFrame.sample, random_state=42, frac=.2)\n",
    "df = df[['Title','Description','Component']]\n",
    "df = df.dropna()\n",
    "df['text'] = df['Title'] + \" \" + df['Description']\n",
    "df = df.drop(columns=['Title','Description'])\n",
    "\n",
    "# Step 1 - Data Preparation\n",
    "\n",
    "df['text'] = df['text'].apply(clean)\n",
    "\n",
    "# Step 2 - Train-Test Split\n",
    "\n",
    "X_train, X_test, Y_train, Y_test = train_test_split(df['text'], df['Component'], \n",
    "                                                    test_size=0.2, random_state=42,\n",
    "                                                    stratify=df['Component'])\n",
    "print ('Size of Training Data ', X_train.shape[0])\n",
    "print ('Size of Test Data ', X_test.shape[0])\n",
    "\n",
    "# Step 3 - Training the Machine Learning model\n",
    "\n",
    "tfidf = TfidfVectorizer(min_df = 10, ngram_range=(1,2), stop_words=\"english\")\n",
    "X_train_tf = tfidf.fit_transform(X_train)\n",
    "\n",
    "\n",
    "svc = SVC(kernel=\"linear\", C=1, probability=True, random_state=42)\n",
    "svc.fit(X_train_tf, Y_train)"
   ]
  },
  {
   "cell_type": "code",
   "execution_count": 8,
   "id": "79681f4e",
   "metadata": {},
   "outputs": [],
   "source": [
    "X_test_tf = tfidf.transform(X_test)\n",
    "Y_pred = svc.predict(X_test_tf)\n",
    "result = pd.DataFrame({ 'text': X_test.values, 'actual': Y_test.values, 'predicted': Y_pred })"
   ]
  },
  {
   "cell_type": "code",
   "execution_count": null,
   "id": "f92035c8",
   "metadata": {},
   "outputs": [],
   "source": []
  },
  {
   "cell_type": "code",
   "execution_count": 9,
   "id": "c682f83c",
   "metadata": {},
   "outputs": [],
   "source": [
    "## Explainable AI"
   ]
  },
  {
   "cell_type": "code",
   "execution_count": 10,
   "id": "166a37f7",
   "metadata": {},
   "outputs": [
    {
     "data": {
      "text/html": [
       "<div>\n",
       "<style scoped>\n",
       "    .dataframe tbody tr th:only-of-type {\n",
       "        vertical-align: middle;\n",
       "    }\n",
       "\n",
       "    .dataframe tbody tr th {\n",
       "        vertical-align: top;\n",
       "    }\n",
       "\n",
       "    .dataframe thead th {\n",
       "        text-align: right;\n",
       "    }\n",
       "</style>\n",
       "<table border=\"1\" class=\"dataframe\">\n",
       "  <thead>\n",
       "    <tr style=\"text-align: right;\">\n",
       "      <th></th>\n",
       "      <th>text</th>\n",
       "      <th>actual</th>\n",
       "      <th>predicted</th>\n",
       "    </tr>\n",
       "  </thead>\n",
       "  <tbody>\n",
       "    <tr>\n",
       "      <th>2</th>\n",
       "      <td>NPE in Delta processor while executing JDT/UI ...</td>\n",
       "      <td>Core</td>\n",
       "      <td>UI</td>\n",
       "    </tr>\n",
       "    <tr>\n",
       "      <th>15</th>\n",
       "      <td>Inserting a block of text in editor badly alig...</td>\n",
       "      <td>UI</td>\n",
       "      <td>Text</td>\n",
       "    </tr>\n",
       "    <tr>\n",
       "      <th>16</th>\n",
       "      <td>Differences when debugging identical objects W...</td>\n",
       "      <td>Debug</td>\n",
       "      <td>Core</td>\n",
       "    </tr>\n",
       "    <tr>\n",
       "      <th>20</th>\n",
       "      <td>Foreach template doesnt work for class members...</td>\n",
       "      <td>Core</td>\n",
       "      <td>UI</td>\n",
       "    </tr>\n",
       "    <tr>\n",
       "      <th>21</th>\n",
       "      <td>exchange left and right operands for compariso...</td>\n",
       "      <td>UI</td>\n",
       "      <td>Core</td>\n",
       "    </tr>\n",
       "  </tbody>\n",
       "</table>\n",
       "</div>"
      ],
      "text/plain": [
       "                                                 text actual predicted\n",
       "2   NPE in Delta processor while executing JDT/UI ...   Core        UI\n",
       "15  Inserting a block of text in editor badly alig...     UI      Text\n",
       "16  Differences when debugging identical objects W...  Debug      Core\n",
       "20  Foreach template doesnt work for class members...   Core        UI\n",
       "21  exchange left and right operands for compariso...     UI      Core"
      ]
     },
     "execution_count": 10,
     "metadata": {},
     "output_type": "execute_result"
    }
   ],
   "source": [
    "result[result[\"actual\"] != result[\"predicted\"]].head()"
   ]
  },
  {
   "cell_type": "code",
   "execution_count": 11,
   "id": "b9a8bc40",
   "metadata": {},
   "outputs": [
    {
     "name": "stdout",
     "output_type": "stream",
     "text": [
      "exchange left and right operands for comparison operators changes semantics Fix for Bug 149803 was not good.; ; The right fix should do the following; if --> if --> if ; if ; if\n"
     ]
    }
   ],
   "source": [
    "text = result.iloc[21][\"text\"]\n",
    "print(text)"
   ]
  },
  {
   "cell_type": "code",
   "execution_count": 12,
   "id": "c9db948d",
   "metadata": {},
   "outputs": [
    {
     "data": {
      "text/plain": [
       "array([[0.002669  , 0.46736578, 0.07725225, 0.00319434, 0.06874877,\n",
       "        0.38076986]])"
      ]
     },
     "execution_count": 12,
     "metadata": {},
     "output_type": "execute_result"
    }
   ],
   "source": [
    "svc.predict_proba(X_test_tf[21])"
   ]
  },
  {
   "cell_type": "code",
   "execution_count": null,
   "id": "091780ef",
   "metadata": {},
   "outputs": [],
   "source": []
  },
  {
   "cell_type": "code",
   "execution_count": 13,
   "id": "d42b4b8a",
   "metadata": {},
   "outputs": [],
   "source": [
    "class_names = [\"APT\", \"Core\", \"Debug\", \"Doc\", \"Text\", \"UI\"]\n",
    "prob = svc.predict_proba(X_test_tf)"
   ]
  },
  {
   "cell_type": "code",
   "execution_count": 14,
   "id": "08150cb7",
   "metadata": {},
   "outputs": [],
   "source": [
    "er = result.copy().reset_index()"
   ]
  },
  {
   "cell_type": "code",
   "execution_count": 15,
   "id": "82d8c759",
   "metadata": {},
   "outputs": [],
   "source": [
    "for i, c in enumerate(class_names):\n",
    "    er[c] = prob[:, i]"
   ]
  },
  {
   "cell_type": "code",
   "execution_count": 16,
   "id": "827edffe",
   "metadata": {},
   "outputs": [
    {
     "data": {
      "text/html": [
       "<div>\n",
       "<style scoped>\n",
       "    .dataframe tbody tr th:only-of-type {\n",
       "        vertical-align: middle;\n",
       "    }\n",
       "\n",
       "    .dataframe tbody tr th {\n",
       "        vertical-align: top;\n",
       "    }\n",
       "\n",
       "    .dataframe thead th {\n",
       "        text-align: right;\n",
       "    }\n",
       "</style>\n",
       "<table border=\"1\" class=\"dataframe\">\n",
       "  <thead>\n",
       "    <tr style=\"text-align: right;\">\n",
       "      <th></th>\n",
       "      <th>actual</th>\n",
       "      <th>predicted</th>\n",
       "      <th>APT</th>\n",
       "      <th>Core</th>\n",
       "      <th>Debug</th>\n",
       "      <th>Doc</th>\n",
       "      <th>Text</th>\n",
       "      <th>UI</th>\n",
       "    </tr>\n",
       "  </thead>\n",
       "  <tbody>\n",
       "    <tr>\n",
       "      <th>266</th>\n",
       "      <td>UI</td>\n",
       "      <td>UI</td>\n",
       "      <td>0.000598</td>\n",
       "      <td>0.000929</td>\n",
       "      <td>0.000476</td>\n",
       "      <td>0.001377</td>\n",
       "      <td>0.224473</td>\n",
       "      <td>0.772148</td>\n",
       "    </tr>\n",
       "    <tr>\n",
       "      <th>835</th>\n",
       "      <td>Text</td>\n",
       "      <td>Text</td>\n",
       "      <td>0.002083</td>\n",
       "      <td>0.032109</td>\n",
       "      <td>0.001481</td>\n",
       "      <td>0.002085</td>\n",
       "      <td>0.696666</td>\n",
       "      <td>0.265577</td>\n",
       "    </tr>\n",
       "    <tr>\n",
       "      <th>998</th>\n",
       "      <td>Text</td>\n",
       "      <td>Text</td>\n",
       "      <td>0.000356</td>\n",
       "      <td>0.026525</td>\n",
       "      <td>0.003425</td>\n",
       "      <td>0.000673</td>\n",
       "      <td>0.942136</td>\n",
       "      <td>0.026884</td>\n",
       "    </tr>\n",
       "    <tr>\n",
       "      <th>754</th>\n",
       "      <td>Core</td>\n",
       "      <td>Text</td>\n",
       "      <td>0.003862</td>\n",
       "      <td>0.334308</td>\n",
       "      <td>0.011312</td>\n",
       "      <td>0.015478</td>\n",
       "      <td>0.492112</td>\n",
       "      <td>0.142927</td>\n",
       "    </tr>\n",
       "    <tr>\n",
       "      <th>686</th>\n",
       "      <td>UI</td>\n",
       "      <td>UI</td>\n",
       "      <td>0.019319</td>\n",
       "      <td>0.099088</td>\n",
       "      <td>0.143744</td>\n",
       "      <td>0.082969</td>\n",
       "      <td>0.053174</td>\n",
       "      <td>0.601705</td>\n",
       "    </tr>\n",
       "  </tbody>\n",
       "</table>\n",
       "</div>"
      ],
      "text/plain": [
       "    actual predicted       APT      Core     Debug       Doc      Text  \\\n",
       "266     UI        UI  0.000598  0.000929  0.000476  0.001377  0.224473   \n",
       "835   Text      Text  0.002083  0.032109  0.001481  0.002085  0.696666   \n",
       "998   Text      Text  0.000356  0.026525  0.003425  0.000673  0.942136   \n",
       "754   Core      Text  0.003862  0.334308  0.011312  0.015478  0.492112   \n",
       "686     UI        UI  0.019319  0.099088  0.143744  0.082969  0.053174   \n",
       "\n",
       "           UI  \n",
       "266  0.772148  \n",
       "835  0.265577  \n",
       "998  0.026884  \n",
       "754  0.142927  \n",
       "686  0.601705  "
      ]
     },
     "execution_count": 16,
     "metadata": {},
     "output_type": "execute_result"
    }
   ],
   "source": [
    "er[[\"actual\", \"predicted\"] + class_names].sample(5, random_state=99)"
   ]
  },
  {
   "cell_type": "code",
   "execution_count": null,
   "id": "13d3272c",
   "metadata": {},
   "outputs": [],
   "source": []
  }
 ],
 "metadata": {
  "kernelspec": {
   "display_name": "Python 3 (ipykernel)",
   "language": "python",
   "name": "python3"
  },
  "language_info": {
   "codemirror_mode": {
    "name": "ipython",
    "version": 3
   },
   "file_extension": ".py",
   "mimetype": "text/x-python",
   "name": "python",
   "nbconvert_exporter": "python",
   "pygments_lexer": "ipython3",
   "version": "3.9.5"
  }
 },
 "nbformat": 4,
 "nbformat_minor": 5
}
