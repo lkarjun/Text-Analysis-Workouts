{
 "cells": [
  {
   "cell_type": "markdown",
   "id": "84def529",
   "metadata": {},
   "source": [
    "### From chapter 6"
   ]
  },
  {
   "cell_type": "code",
   "execution_count": 1,
   "id": "9d7f6d36",
   "metadata": {},
   "outputs": [],
   "source": [
    "import pandas as pd\n",
    "pd.set_option('display.max_colwidth', 50)\n",
    "from pathlib import Path\n",
    "\n",
    "import matplotlib.pyplot as plt\n",
    "\n",
    "BASE_PATH = Path(\"../DATASETS/6\")"
   ]
  },
  {
   "cell_type": "code",
   "execution_count": 2,
   "id": "5cb215e1",
   "metadata": {},
   "outputs": [],
   "source": [
    "import html \n",
    "import re\n",
    "# tags like \n",
    "RE_TAG = re.compile(r'<[^<>]*>')\n",
    "# text or code in brackets like [0]\n",
    "RE_BRACKET = re.compile('\\[[^\\[\\]]*\\]')\n",
    "# text or code in brackets like (0)\n",
    "RE_BRACKET_1 = re.compile('\\([^)]*\\)')\n",
    "# specials that are not part of words; matches # but not #cool\n",
    "RE_SPECIAL = re.compile(r'(?:^|\\s)[&#<>{}\\[\\]+]+(?:\\s|$)')\n",
    "# standalone sequences of hyphens like --- or ==\n",
    "RE_HYPHEN_SEQ = re.compile(r'(?:^|\\s)[\\-=\\+]{2,}(?:\\s|$)')\n",
    "# sequences of white spaces\n",
    "RE_MULTI_SPACE = re.compile('\\s+')\n",
    "\n",
    "def clean(text):\n",
    "    text = html.unescape(text)\n",
    "    text = RE_TAG.sub(' ', text)\n",
    "    text = RE_BRACKET.sub(' ', text)\n",
    "    text = RE_BRACKET_1.sub(' ', text)\n",
    "    text = RE_SPECIAL.sub(' ', text)\n",
    "    text = RE_HYPHEN_SEQ.sub(' ', text)\n",
    "    text = RE_MULTI_SPACE.sub(' ', text)\n",
    "    return text.strip()"
   ]
  },
  {
   "cell_type": "code",
   "execution_count": 3,
   "id": "a1fbb7f3",
   "metadata": {},
   "outputs": [],
   "source": [
    "from sklearn.model_selection import train_test_split\n",
    "from sklearn.feature_extraction.text import TfidfVectorizer\n",
    "from sklearn.svm import SVC\n",
    "from sklearn.metrics import accuracy_score\n",
    "from sklearn.metrics import confusion_matrix, classification_report"
   ]
  },
  {
   "cell_type": "code",
   "execution_count": 4,
   "id": "c51d922f",
   "metadata": {},
   "outputs": [
    {
     "name": "stdout",
     "output_type": "stream",
     "text": [
      "Size of Training Data  7240\n",
      "Size of Test Data  1811\n"
     ]
    },
    {
     "data": {
      "text/plain": [
       "SVC(C=1, kernel='linear', probability=True, random_state=42)"
      ]
     },
     "execution_count": 4,
     "metadata": {},
     "output_type": "execute_result"
    }
   ],
   "source": [
    "# Loading the dataframe\n",
    "\n",
    "df = pd.read_csv(BASE_PATH/\"eclipse_jdt.csv.gz\")\n",
    "df = df.groupby('Component', as_index=False).apply(pd.DataFrame.sample, random_state=42, frac=.2)\n",
    "df = df[['Title','Description','Component']]\n",
    "df = df.dropna()\n",
    "df['text'] = df['Title'] + \" \" + df['Description']\n",
    "df = df.drop(columns=['Title','Description'])\n",
    "\n",
    "# Step 1 - Data Preparation\n",
    "\n",
    "df['text'] = df['text'].apply(clean)\n",
    "\n",
    "# Step 2 - Train-Test Split\n",
    "\n",
    "X_train, X_test, Y_train, Y_test = train_test_split(df['text'], df['Component'], \n",
    "                                                    test_size=0.2, random_state=42,\n",
    "                                                    stratify=df['Component'])\n",
    "print ('Size of Training Data ', X_train.shape[0])\n",
    "print ('Size of Test Data ', X_test.shape[0])\n",
    "\n",
    "# Step 3 - Training the Machine Learning model\n",
    "\n",
    "tfidf = TfidfVectorizer(min_df = 10, ngram_range=(1,2), stop_words=\"english\")\n",
    "X_train_tf = tfidf.fit_transform(X_train)\n",
    "\n",
    "\n",
    "svc = SVC(kernel=\"linear\", C=1, probability=True, random_state=42)\n",
    "svc.fit(X_train_tf, Y_train)"
   ]
  },
  {
   "cell_type": "code",
   "execution_count": 5,
   "id": "79681f4e",
   "metadata": {},
   "outputs": [],
   "source": [
    "X_test_tf = tfidf.transform(X_test)\n",
    "Y_pred = svc.predict(X_test_tf)\n",
    "result = pd.DataFrame({ 'text': X_test.values, 'actual': Y_test.values, 'predicted': Y_pred })"
   ]
  },
  {
   "cell_type": "code",
   "execution_count": null,
   "id": "e72ce86b",
   "metadata": {},
   "outputs": [],
   "source": []
  },
  {
   "cell_type": "markdown",
   "id": "f35f1069",
   "metadata": {},
   "source": [
    "### Determining Classication Condence Using Prediction Probability\n"
   ]
  },
  {
   "cell_type": "code",
   "execution_count": 6,
   "id": "166a37f7",
   "metadata": {},
   "outputs": [
    {
     "data": {
      "text/html": [
       "<div>\n",
       "<style scoped>\n",
       "    .dataframe tbody tr th:only-of-type {\n",
       "        vertical-align: middle;\n",
       "    }\n",
       "\n",
       "    .dataframe tbody tr th {\n",
       "        vertical-align: top;\n",
       "    }\n",
       "\n",
       "    .dataframe thead th {\n",
       "        text-align: right;\n",
       "    }\n",
       "</style>\n",
       "<table border=\"1\" class=\"dataframe\">\n",
       "  <thead>\n",
       "    <tr style=\"text-align: right;\">\n",
       "      <th></th>\n",
       "      <th>text</th>\n",
       "      <th>actual</th>\n",
       "      <th>predicted</th>\n",
       "    </tr>\n",
       "  </thead>\n",
       "  <tbody>\n",
       "    <tr>\n",
       "      <th>2</th>\n",
       "      <td>NPE in Delta processor while executing JDT/UI ...</td>\n",
       "      <td>Core</td>\n",
       "      <td>UI</td>\n",
       "    </tr>\n",
       "    <tr>\n",
       "      <th>15</th>\n",
       "      <td>Inserting a block of text in editor badly alig...</td>\n",
       "      <td>UI</td>\n",
       "      <td>Text</td>\n",
       "    </tr>\n",
       "    <tr>\n",
       "      <th>16</th>\n",
       "      <td>Differences when debugging identical objects W...</td>\n",
       "      <td>Debug</td>\n",
       "      <td>Core</td>\n",
       "    </tr>\n",
       "    <tr>\n",
       "      <th>20</th>\n",
       "      <td>Foreach template doesnt work for class members...</td>\n",
       "      <td>Core</td>\n",
       "      <td>UI</td>\n",
       "    </tr>\n",
       "    <tr>\n",
       "      <th>21</th>\n",
       "      <td>exchange left and right operands for compariso...</td>\n",
       "      <td>UI</td>\n",
       "      <td>Core</td>\n",
       "    </tr>\n",
       "  </tbody>\n",
       "</table>\n",
       "</div>"
      ],
      "text/plain": [
       "                                                 text actual predicted\n",
       "2   NPE in Delta processor while executing JDT/UI ...   Core        UI\n",
       "15  Inserting a block of text in editor badly alig...     UI      Text\n",
       "16  Differences when debugging identical objects W...  Debug      Core\n",
       "20  Foreach template doesnt work for class members...   Core        UI\n",
       "21  exchange left and right operands for compariso...     UI      Core"
      ]
     },
     "execution_count": 6,
     "metadata": {},
     "output_type": "execute_result"
    }
   ],
   "source": [
    "result[result[\"actual\"] != result[\"predicted\"]].head()"
   ]
  },
  {
   "cell_type": "code",
   "execution_count": 8,
   "id": "b9a8bc40",
   "metadata": {},
   "outputs": [
    {
     "name": "stdout",
     "output_type": "stream",
     "text": [
      "exchange left and right operands for comparison operators changes semantics Fix for Bug 149803 was not good.; ; The right fix should do the following; if --> if --> if ; if ; if\n"
     ]
    }
   ],
   "source": [
    "text = result.iloc[21][\"text\"]\n",
    "print(text)"
   ]
  },
  {
   "cell_type": "code",
   "execution_count": 12,
   "id": "c9db948d",
   "metadata": {},
   "outputs": [
    {
     "data": {
      "text/plain": [
       "array([[0.002669  , 0.46736578, 0.07725225, 0.00319434, 0.06874877,\n",
       "        0.38076986]])"
      ]
     },
     "execution_count": 12,
     "metadata": {},
     "output_type": "execute_result"
    }
   ],
   "source": [
    "svc.predict_proba(X_test_tf[21])"
   ]
  },
  {
   "cell_type": "code",
   "execution_count": null,
   "id": "bd4874a7",
   "metadata": {},
   "outputs": [],
   "source": []
  },
  {
   "cell_type": "code",
   "execution_count": 15,
   "id": "d42b4b8a",
   "metadata": {},
   "outputs": [],
   "source": [
    "class_names = [\"APT\", \"Core\", \"Debug\", \"Doc\", \"Text\", \"UI\"]\n",
    "prob = svc.predict_proba(X_test_tf)"
   ]
  },
  {
   "cell_type": "code",
   "execution_count": 18,
   "id": "08150cb7",
   "metadata": {},
   "outputs": [],
   "source": [
    "er = result.copy().reset_index()"
   ]
  },
  {
   "cell_type": "code",
   "execution_count": 19,
   "id": "82d8c759",
   "metadata": {},
   "outputs": [],
   "source": [
    "for i, c in enumerate(class_names):\n",
    "    er[c] = prob[:, i]"
   ]
  },
  {
   "cell_type": "code",
   "execution_count": 20,
   "id": "827edffe",
   "metadata": {},
   "outputs": [
    {
     "data": {
      "text/html": [
       "<div>\n",
       "<style scoped>\n",
       "    .dataframe tbody tr th:only-of-type {\n",
       "        vertical-align: middle;\n",
       "    }\n",
       "\n",
       "    .dataframe tbody tr th {\n",
       "        vertical-align: top;\n",
       "    }\n",
       "\n",
       "    .dataframe thead th {\n",
       "        text-align: right;\n",
       "    }\n",
       "</style>\n",
       "<table border=\"1\" class=\"dataframe\">\n",
       "  <thead>\n",
       "    <tr style=\"text-align: right;\">\n",
       "      <th></th>\n",
       "      <th>actual</th>\n",
       "      <th>predicted</th>\n",
       "      <th>APT</th>\n",
       "      <th>Core</th>\n",
       "      <th>Debug</th>\n",
       "      <th>Doc</th>\n",
       "      <th>Text</th>\n",
       "      <th>UI</th>\n",
       "    </tr>\n",
       "  </thead>\n",
       "  <tbody>\n",
       "    <tr>\n",
       "      <th>266</th>\n",
       "      <td>UI</td>\n",
       "      <td>UI</td>\n",
       "      <td>0.000598</td>\n",
       "      <td>0.000929</td>\n",
       "      <td>0.000476</td>\n",
       "      <td>0.001377</td>\n",
       "      <td>0.224473</td>\n",
       "      <td>0.772148</td>\n",
       "    </tr>\n",
       "    <tr>\n",
       "      <th>835</th>\n",
       "      <td>Text</td>\n",
       "      <td>Text</td>\n",
       "      <td>0.002083</td>\n",
       "      <td>0.032109</td>\n",
       "      <td>0.001481</td>\n",
       "      <td>0.002085</td>\n",
       "      <td>0.696666</td>\n",
       "      <td>0.265577</td>\n",
       "    </tr>\n",
       "    <tr>\n",
       "      <th>998</th>\n",
       "      <td>Text</td>\n",
       "      <td>Text</td>\n",
       "      <td>0.000356</td>\n",
       "      <td>0.026525</td>\n",
       "      <td>0.003425</td>\n",
       "      <td>0.000673</td>\n",
       "      <td>0.942136</td>\n",
       "      <td>0.026884</td>\n",
       "    </tr>\n",
       "    <tr>\n",
       "      <th>754</th>\n",
       "      <td>Core</td>\n",
       "      <td>Text</td>\n",
       "      <td>0.003862</td>\n",
       "      <td>0.334308</td>\n",
       "      <td>0.011312</td>\n",
       "      <td>0.015478</td>\n",
       "      <td>0.492112</td>\n",
       "      <td>0.142927</td>\n",
       "    </tr>\n",
       "    <tr>\n",
       "      <th>686</th>\n",
       "      <td>UI</td>\n",
       "      <td>UI</td>\n",
       "      <td>0.019319</td>\n",
       "      <td>0.099088</td>\n",
       "      <td>0.143744</td>\n",
       "      <td>0.082969</td>\n",
       "      <td>0.053174</td>\n",
       "      <td>0.601705</td>\n",
       "    </tr>\n",
       "  </tbody>\n",
       "</table>\n",
       "</div>"
      ],
      "text/plain": [
       "    actual predicted       APT      Core     Debug       Doc      Text  \\\n",
       "266     UI        UI  0.000598  0.000929  0.000476  0.001377  0.224473   \n",
       "835   Text      Text  0.002083  0.032109  0.001481  0.002085  0.696666   \n",
       "998   Text      Text  0.000356  0.026525  0.003425  0.000673  0.942136   \n",
       "754   Core      Text  0.003862  0.334308  0.011312  0.015478  0.492112   \n",
       "686     UI        UI  0.019319  0.099088  0.143744  0.082969  0.053174   \n",
       "\n",
       "           UI  \n",
       "266  0.772148  \n",
       "835  0.265577  \n",
       "998  0.026884  \n",
       "754  0.142927  \n",
       "686  0.601705  "
      ]
     },
     "execution_count": 20,
     "metadata": {},
     "output_type": "execute_result"
    }
   ],
   "source": [
    "er[[\"actual\", \"predicted\"] + class_names].sample(5, random_state=99)"
   ]
  },
  {
   "cell_type": "code",
   "execution_count": null,
   "id": "13d3272c",
   "metadata": {},
   "outputs": [],
   "source": []
  },
  {
   "cell_type": "code",
   "execution_count": 24,
   "id": "1957f32f",
   "metadata": {},
   "outputs": [],
   "source": [
    "er['max_probability'] = er[class_names].max(axis=1)"
   ]
  },
  {
   "cell_type": "code",
   "execution_count": 25,
   "id": "e6dc2720",
   "metadata": {},
   "outputs": [],
   "source": [
    "correct = (er[er['actual'] == er['predicted']])\n",
    "wrong = (er[er['actual'] != er['predicted']])"
   ]
  },
  {
   "cell_type": "code",
   "execution_count": null,
   "id": "61823215",
   "metadata": {},
   "outputs": [],
   "source": []
  },
  {
   "cell_type": "code",
   "execution_count": 28,
   "id": "f51e0d05",
   "metadata": {},
   "outputs": [
    {
     "data": {
      "image/png": "[encoded data removed]",
      "text/plain": [
       "<Figure size 432x288 with 1 Axes>"
      ]
     },
     "metadata": {
      "needs_background": "light"
     },
     "output_type": "display_data"
    }
   ],
   "source": [
    "correct['max_probability'].plot.hist(title = 'Correct');"
   ]
  },
  {
   "cell_type": "code",
   "execution_count": 29,
   "id": "a767ddc5",
   "metadata": {},
   "outputs": [
    {
     "data": {
      "image/png": "[encoded data removed]",
      "text/plain": [
       "<Figure size 432x288 with 1 Axes>"
      ]
     },
     "metadata": {
      "needs_background": "light"
     },
     "output_type": "display_data"
    }
   ],
   "source": [
    "wrong['max_probability'].plot.hist(title = 'Correct');"
   ]
  },
  {
   "cell_type": "markdown",
   "id": "25aa0ad8",
   "metadata": {},
   "source": [
    "We can see that in the case of correct predictions, the model often decided with high\n",
    "probabilities, whereas the probabilities were considerably lower when the decision\n",
    "was wrong. As we will see later, the small peak in the wrong category with high prob‐\n",
    "ability is due to short texts or missing words.\n",
    "Finally, we will take a look at whether we can improve the results if we only consider\n",
    "decisions that have been made with a probability of more than 80%:"
   ]
  },
  {
   "cell_type": "code",
   "execution_count": null,
   "id": "1bc2a387",
   "metadata": {},
   "outputs": [],
   "source": []
  },
  {
   "cell_type": "code",
   "execution_count": 30,
   "id": "ffd6aaf2",
   "metadata": {},
   "outputs": [],
   "source": [
    "high = er[er['max_probability'] > .8]"
   ]
  },
  {
   "cell_type": "code",
   "execution_count": 32,
   "id": "66e64431",
   "metadata": {},
   "outputs": [
    {
     "name": "stdout",
     "output_type": "stream",
     "text": [
      "              precision    recall  f1-score   support\n",
      "\n",
      "         APT       0.90      0.75      0.82        12\n",
      "        Core       0.94      0.89      0.92       264\n",
      "       Debug       0.94      0.99      0.96       202\n",
      "         Doc       1.00      0.67      0.80         3\n",
      "        Text       0.78      0.75      0.77        72\n",
      "          UI       0.90      0.92      0.91       342\n",
      "\n",
      "    accuracy                           0.91       895\n",
      "   macro avg       0.91      0.83      0.86       895\n",
      "weighted avg       0.91      0.91      0.91       895\n",
      "\n"
     ]
    }
   ],
   "source": [
    "print(classification_report(high['actual'], high['predicted']))"
   ]
  },
  {
   "cell_type": "code",
   "execution_count": 33,
   "id": "4e2c3df7",
   "metadata": {},
   "outputs": [
    {
     "name": "stdout",
     "output_type": "stream",
     "text": [
      "              precision    recall  f1-score   support\n",
      "\n",
      "         APT       0.90      0.56      0.69        16\n",
      "        Core       0.76      0.77      0.76       546\n",
      "       Debug       0.90      0.78      0.84       302\n",
      "         Doc       1.00      0.25      0.40        12\n",
      "        Text       0.64      0.51      0.57       236\n",
      "          UI       0.72      0.82      0.77       699\n",
      "\n",
      "    accuracy                           0.75      1811\n",
      "   macro avg       0.82      0.62      0.67      1811\n",
      "weighted avg       0.75      0.75      0.75      1811\n",
      "\n"
     ]
    }
   ],
   "source": [
    "#Compare this to the original result, shown here:\n",
    "print(classification_report(er[\"actual\"], er[\"predicted\"]))"
   ]
  },
  {
   "cell_type": "markdown",
   "id": "034d03a8",
   "metadata": {},
   "source": [
    "In this section, we have found a correlation between the predicting probability and\n",
    "the quality of results."
   ]
  },
  {
   "cell_type": "code",
   "execution_count": null,
   "id": "4e77bcb1",
   "metadata": {},
   "outputs": [],
   "source": []
  },
  {
   "cell_type": "code",
   "execution_count": null,
   "id": "9b1e67e4",
   "metadata": {},
   "outputs": [],
   "source": []
  },
  {
   "cell_type": "markdown",
   "id": "37295d66",
   "metadata": {},
   "source": [
    "### Measuring Feature Importance of Predictive Models"
   ]
  },
  {
   "cell_type": "code",
   "execution_count": 38,
   "id": "e745e4b2",
   "metadata": {},
   "outputs": [
    {
     "data": {
      "text/plain": [
       "<15x6403 sparse matrix of type '<class 'numpy.float64'>'\n",
       "\twith 64451 stored elements in Compressed Sparse Row format>"
      ]
     },
     "execution_count": 38,
     "metadata": {},
     "output_type": "execute_result"
    }
   ],
   "source": [
    "svc.coef_"
   ]
  },
  {
   "cell_type": "code",
   "execution_count": null,
   "id": "51a598c6",
   "metadata": {},
   "outputs": [],
   "source": []
  },
  {
   "cell_type": "code",
   "execution_count": 86,
   "id": "09b94aa6",
   "metadata": {},
   "outputs": [],
   "source": [
    "coef = svc.coef_[8].A[0]"
   ]
  },
  {
   "cell_type": "code",
   "execution_count": 87,
   "id": "207a2d30",
   "metadata": {},
   "outputs": [],
   "source": [
    "vocabulary_positions = coef.argsort()\n",
    "vocabulary = tfidf.get_feature_names_out()"
   ]
  },
  {
   "cell_type": "code",
   "execution_count": null,
   "id": "b7467b94",
   "metadata": {},
   "outputs": [],
   "source": []
  },
  {
   "cell_type": "code",
   "execution_count": 88,
   "id": "00666c05",
   "metadata": {},
   "outputs": [],
   "source": [
    "top_words = 10\n",
    "top_positive_coef = vocabulary_positions[-top_words:].tolist()\n",
    "top_negative_coef = vocabulary_positions[:top_words].tolist()"
   ]
  },
  {
   "cell_type": "code",
   "execution_count": null,
   "id": "4db3c7ae",
   "metadata": {},
   "outputs": [],
   "source": []
  },
  {
   "cell_type": "code",
   "execution_count": 89,
   "id": "5a8fb443",
   "metadata": {},
   "outputs": [],
   "source": [
    "data = [[vocabulary[c], coef[c]] for c in top_negative_coef+top_positive_coef]"
   ]
  },
  {
   "cell_type": "code",
   "execution_count": 90,
   "id": "8937da5c",
   "metadata": {},
   "outputs": [],
   "source": [
    "core_ui = pd.DataFrame(\n",
    "                data, columns=['features', 'coefficient']).sort_values(\"coefficient\")"
   ]
  },
  {
   "cell_type": "code",
   "execution_count": 97,
   "id": "48ad628f",
   "metadata": {},
   "outputs": [
    {
     "data": {
      "text/plain": [
       "<AxesSubplot:title={'center':'core ui coefficient'}, ylabel='features'>"
      ]
     },
     "execution_count": 97,
     "metadata": {},
     "output_type": "execute_result"
    },
    {
     "data": {
      "image/png": "[encoded data removed]",
      "text/plain": [
       "<Figure size 432x288 with 1 Axes>"
      ]
     },
     "metadata": {
      "needs_background": "light"
     },
     "output_type": "display_data"
    }
   ],
   "source": [
    "core_ui.set_index(\"features\").plot.barh(title = 'core ui coefficient')"
   ]
  },
  {
   "cell_type": "markdown",
   "id": "5b940288",
   "metadata": {},
   "source": [
    "These results are quite easy to interpret. The SVM model has nicely learned that the\n",
    "words compiler and ast are specific to the Core component, whereas wizard, ui, and\n",
    "dialog are used to identify bugs in the UI component. It seems a quick fix is more\n",
    "popular in the UI, which emphasizes the long-term stability of the core."
   ]
  },
  {
   "cell_type": "code",
   "execution_count": null,
   "id": "846940fa",
   "metadata": {},
   "outputs": [],
   "source": []
  },
  {
   "cell_type": "markdown",
   "id": "6a7fb5b9",
   "metadata": {},
   "source": [
    "We have just found the features that are important for the whole SVM model to\n",
    "choose between Core and UI. But this does not indicate which features are important\n",
    "to identify a bug that can be categorized as Core given any bug report."
   ]
  },
  {
   "cell_type": "code",
   "execution_count": 114,
   "id": "1351be58",
   "metadata": {},
   "outputs": [],
   "source": [
    "c = svc.coef_\n",
    "coef = (c[5] + c[6] + c[7] + c[8] -  c[0]).A[0]\n",
    "vocabulary_positions = coef.argsort()"
   ]
  },
  {
   "cell_type": "code",
   "execution_count": 115,
   "id": "4d127854",
   "metadata": {},
   "outputs": [],
   "source": [
    "top_words = 20\n",
    "\n",
    "top_positive_coef = vocabulary_positions[-top_words:].tolist()\n",
    "top_negative_coef = vocabulary_positions[:top_words].tolist()"
   ]
  },
  {
   "cell_type": "code",
   "execution_count": 123,
   "id": "22828c2a",
   "metadata": {},
   "outputs": [],
   "source": [
    "data = [[vocabulary[c], coef[c]] for c in top_positive_coef + top_negative_coef]"
   ]
  },
  {
   "cell_type": "code",
   "execution_count": 124,
   "id": "2c7c0e73",
   "metadata": {},
   "outputs": [],
   "source": [
    "core = pd.DataFrame(data, columns=['features', 'coefficient']).sort_values(\"coefficient\")"
   ]
  },
  {
   "cell_type": "code",
   "execution_count": 126,
   "id": "78ddd967",
   "metadata": {},
   "outputs": [
    {
     "data": {
      "image/png": "[encoded data removed]",
      "text/plain": [
       "<Figure size 432x720 with 1 Axes>"
      ]
     },
     "metadata": {
      "needs_background": "light"
     },
     "output_type": "display_data"
    }
   ],
   "source": [
    "core.set_index(\"features\").plot.barh(figsize=(6, 10));"
   ]
  },
  {
   "cell_type": "code",
   "execution_count": null,
   "id": "2b2230b2",
   "metadata": {},
   "outputs": [],
   "source": []
  },
  {
   "cell_type": "code",
   "execution_count": null,
   "id": "b4273ad0",
   "metadata": {},
   "outputs": [],
   "source": []
  },
  {
   "cell_type": "code",
   "execution_count": 120,
   "id": "0c6baf11",
   "metadata": {},
   "outputs": [],
   "source": [
    "c = svc.coef_\n",
    "coef = (c[5] + c[6] + c[7] + c[8] - c[0]).A[0]\n",
    "vocabulary_positions = coef.argsort()"
   ]
  },
  {
   "cell_type": "code",
   "execution_count": 121,
   "id": "4c64ddf4",
   "metadata": {},
   "outputs": [],
   "source": [
    "top_words = 20\n",
    "top_positive_coef = vocabulary_positions[-top_words:].tolist()\n",
    "top_negative_coef = vocabulary_positions[:top_words].tolist()\n"
   ]
  },
  {
   "cell_type": "code",
   "execution_count": 122,
   "id": "c9128fec",
   "metadata": {},
   "outputs": [
    {
     "data": {
      "image/png": "[encoded data removed]",
      "text/plain": [
       "<Figure size 432x720 with 1 Axes>"
      ]
     },
     "metadata": {
      "needs_background": "light"
     },
     "output_type": "display_data"
    }
   ],
   "source": [
    "core = [[vocabulary[c], coef[c]] for c in top_negative_coef+top_positive_coef]\n",
    "\n",
    "core = pd.DataFrame(core, columns=['features', 'coefficient']).sort_values(\"coefficient\")\n",
    "core.set_index(\"features\").plot.barh(figsize=(6, 10));"
   ]
  },
  {
   "cell_type": "code",
   "execution_count": null,
   "id": "a798988a",
   "metadata": {},
   "outputs": [],
   "source": []
  }
 ],
 "metadata": {
  "kernelspec": {
   "display_name": "Python 3 (ipykernel)",
   "language": "python",
   "name": "python3"
  },
  "language_info": {
   "codemirror_mode": {
    "name": "ipython",
    "version": 3
   },
   "file_extension": ".py",
   "mimetype": "text/x-python",
   "name": "python",
   "nbconvert_exporter": "python",
   "pygments_lexer": "ipython3",
   "version": "3.9.5"
  }
 },
 "nbformat": 4,
 "nbformat_minor": 5
}
